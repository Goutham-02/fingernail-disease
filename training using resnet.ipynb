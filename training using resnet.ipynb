{
  "cells": [
    {
      "cell_type": "code",
      "execution_count": 11,
      "metadata": {
        "colab": {
          "base_uri": "https://localhost:8080/"
        },
        "id": "YrCd5XTr5F7Y",
        "outputId": "9819600e-e623-46ce-d55e-e2908c1e2bb9"
      },
      "outputs": [],
      "source": [
        "import os\n",
        "import timm\n",
        "import torch\n",
        "from torch import nn, optim\n",
        "from torch.utils.data import DataLoader\n",
        "from torchvision.datasets import ImageFolder\n",
        "from torchvision import transforms\n",
        "from PIL import Image"
      ]
    },
    {
      "cell_type": "code",
      "execution_count": 12,
      "metadata": {
        "colab": {
          "base_uri": "https://localhost:8080/"
        },
        "id": "fNt_DQy85QvU",
        "outputId": "55128150-5bdb-42b5-bf6f-6fb7f10a74aa"
      },
      "outputs": [
        {
          "name": "stdout",
          "output_type": "stream",
          "text": [
            "Dataset paths set.\n"
          ]
        }
      ],
      "source": [
        "train_dir = \"G:/v2/Nail Disease DataSet/Train\"\n",
        "valid_dir = \"G:/v2/Nail Disease DataSet/Test\"\n",
        "\n",
        "# Check if the paths exist to avoid errors\n",
        "assert os.path.exists(train_dir), f\"Training directory not found at: {train_dir}\"\n",
        "assert os.path.exists(valid_dir), f\"Validation directory not found at: {valid_dir}\"\n",
        "\n",
        "print('Dataset paths set.')"
      ]
    },
    {
      "cell_type": "code",
      "execution_count": 13,
      "metadata": {
        "colab": {
          "base_uri": "https://localhost:8080/"
        },
        "id": "2shX0_eL6Edn",
        "outputId": "1c24b788-5aed-43a9-c099-99f280eaff8e"
      },
      "outputs": [
        {
          "name": "stdout",
          "output_type": "stream",
          "text": [
            "Found 17 classes.\n",
            "Training samples: 655, Validation samples: 183\n"
          ]
        }
      ],
      "source": [
        "# Define the transformations for the train and validation data\n",
        "train_transforms = transforms.Compose([\n",
        "    transforms.Resize((192, 192)),\n",
        "    transforms.ColorJitter(brightness=0.125, contrast=0.125, saturation=0.05, hue=0.025),\n",
        "    transforms.RandomAffine(degrees=10, translate=(0.075, 0.075), shear=0.025),\n",
        "    transforms.RandomHorizontalFlip(),\n",
        "    transforms.RandomVerticalFlip(),\n",
        "    transforms.ToTensor(),\n",
        "    transforms.Normalize([0.485, 0.456, 0.406], [0.229, 0.224, 0.225]),\n",
        "])\n",
        "\n",
        "valid_transforms = transforms.Compose([\n",
        "    transforms.Resize((192, 192)),\n",
        "    transforms.ToTensor(),\n",
        "    transforms.Normalize([0.485, 0.456, 0.406], [0.229, 0.224, 0.225]),\n",
        "])\n",
        "\n",
        "# Load datasets using ImageFolder\n",
        "train_data = ImageFolder(root=train_dir, transform=train_transforms)\n",
        "valid_data = ImageFolder(root=valid_dir, transform=valid_transforms)\n",
        "\n",
        "# DataLoader for train and validation\n",
        "train_loader = DataLoader(train_data, batch_size=32, shuffle=True)\n",
        "valid_loader = DataLoader(valid_data, batch_size=32, shuffle=False)\n",
        "\n",
        "print(f'Found {len(train_data.classes)} classes.')\n",
        "print(f'Training samples: {len(train_data)}, Validation samples: {len(valid_data)}')\n"
      ]
    },
    {
      "cell_type": "code",
      "execution_count": 14,
      "metadata": {
        "colab": {
          "base_uri": "https://localhost:8080/",
          "height": 190,
          "referenced_widgets": [
            "0b6e4c6d0be24c0c9d3ed1057fa4c717",
            "266522f464104052b9a2c537c5c6382b",
            "0dd15a23d1fc4a95b5eb2325b5aaa328",
            "02ca95b2943549138e5e8500afd23bdc",
            "6e60bbb7b7c4437cb91a4aac76fbb65d",
            "2ca4a2697bf549bfa61b5ed0eda12c78",
            "3aa129fdb4764737a4b25af386f03d89",
            "5b12dde4403c428aa5f77eadf7dff3e2",
            "cc01bd6cf55442d3884cba283392a413",
            "1d131335ffed4c419e2f0e36cd2794f0",
            "fe2922a820824e0990601c84794c9d87"
          ]
        },
        "id": "3BIA2hjZ6Mdn",
        "outputId": "31aa1db2-beae-47ea-aa62-cda5c9d9218c"
      },
      "outputs": [
        {
          "name": "stdout",
          "output_type": "stream",
          "text": [
            "Model, criterion, and optimizer are ready.\n"
          ]
        }
      ],
      "source": [
        "# Load the ResNet18 model from timm\n",
        "model = timm.create_model('resnet18d', pretrained=True, num_classes=len(train_data.classes))\n",
        "\n",
        "# Define loss function and optimizer\n",
        "criterion = nn.CrossEntropyLoss()\n",
        "optimizer = optim.AdamW(model.parameters(), lr=3.25e-4, weight_decay=1e-3)\n",
        "\n",
        "print('Model, criterion, and optimizer are ready.')"
      ]
    },
    {
      "cell_type": "code",
      "execution_count": 15,
      "metadata": {
        "id": "0DfdhILE63xD"
      },
      "outputs": [],
      "source": [
        "def train_model(model, train_loader, valid_loader, criterion, optimizer, epochs=16):\n",
        "    device = torch.device(\"cuda\" if torch.cuda.is_available() else \"cpu\")\n",
        "    model.to(device)\n",
        "    print(f\"Training on device: {device}\")\n",
        "\n",
        "    for epoch in range(epochs):\n",
        "        # --- Training Phase ---\n",
        "        model.train()\n",
        "        running_loss = 0.0\n",
        "        correct = 0\n",
        "        total = 0\n",
        "\n",
        "        for images, labels in train_loader:\n",
        "            images, labels = images.to(device), labels.to(device)\n",
        "\n",
        "            optimizer.zero_grad()\n",
        "            outputs = model(images)\n",
        "            loss = criterion(outputs, labels)\n",
        "            loss.backward()\n",
        "            optimizer.step()\n",
        "\n",
        "            running_loss += loss.item()\n",
        "            _, predicted = torch.max(outputs, 1)\n",
        "            total += labels.size(0)\n",
        "            correct += (predicted == labels).sum().item()\n",
        "\n",
        "        train_accuracy = 100 * correct / total\n",
        "        train_loss = running_loss / len(train_loader)\n",
        "\n",
        "        # --- Validation Phase ---\n",
        "        model.eval()\n",
        "        val_loss = 0.0\n",
        "        val_correct = 0\n",
        "        val_total = 0\n",
        "        with torch.no_grad():\n",
        "            for images, labels in valid_loader:\n",
        "                images, labels = images.to(device), labels.to(device)\n",
        "                outputs = model(images)\n",
        "                loss = criterion(outputs, labels)\n",
        "                val_loss += loss.item()\n",
        "                _, predicted = torch.max(outputs, 1)\n",
        "                val_total += labels.size(0)\n",
        "                val_correct += (predicted == labels).sum().item()\n",
        "\n",
        "        val_accuracy = 100 * val_correct / val_total\n",
        "        val_loss_avg = val_loss / len(valid_loader)\n",
        "\n",
        "        print(f'Epoch {epoch + 1}/{epochs} | '\n",
        "              f'Train Loss: {train_loss:.4f}, Train Accuracy: {train_accuracy:.2f}% | '\n",
        "              f'Val Loss: {val_loss_avg:.4f}, Val Accuracy: {val_accuracy:.2f}%')"
      ]
    },
    {
      "cell_type": "code",
      "execution_count": 16,
      "metadata": {
        "colab": {
          "base_uri": "https://localhost:8080/"
        },
        "id": "1ppmuJ-e6-kn",
        "outputId": "bb8922c4-ac04-4f73-bfda-2101424552f1"
      },
      "outputs": [
        {
          "name": "stdout",
          "output_type": "stream",
          "text": [
            "Starting training...\n",
            "Training on device: cpu\n",
            "Epoch 1/30 | Train Loss: 2.7106, Train Accuracy: 16.49% | Val Loss: 2.5673, Val Accuracy: 19.67%\n",
            "Epoch 2/30 | Train Loss: 2.1574, Train Accuracy: 40.00% | Val Loss: 1.9800, Val Accuracy: 39.89%\n",
            "Epoch 3/30 | Train Loss: 1.6263, Train Accuracy: 58.47% | Val Loss: 1.3780, Val Accuracy: 60.11%\n",
            "Epoch 4/30 | Train Loss: 1.1346, Train Accuracy: 69.77% | Val Loss: 0.9174, Val Accuracy: 77.05%\n",
            "Epoch 5/30 | Train Loss: 0.8818, Train Accuracy: 77.71% | Val Loss: 0.6638, Val Accuracy: 83.06%\n",
            "Epoch 6/30 | Train Loss: 0.6547, Train Accuracy: 84.58% | Val Loss: 0.5107, Val Accuracy: 84.70%\n",
            "Epoch 7/30 | Train Loss: 0.4599, Train Accuracy: 87.79% | Val Loss: 0.2598, Val Accuracy: 95.63%\n",
            "Epoch 8/30 | Train Loss: 0.3559, Train Accuracy: 92.06% | Val Loss: 0.2376, Val Accuracy: 94.54%\n",
            "Epoch 9/30 | Train Loss: 0.2971, Train Accuracy: 92.98% | Val Loss: 0.1788, Val Accuracy: 96.72%\n",
            "Epoch 10/30 | Train Loss: 0.2345, Train Accuracy: 96.03% | Val Loss: 0.1448, Val Accuracy: 96.72%\n",
            "Epoch 11/30 | Train Loss: 0.2010, Train Accuracy: 96.18% | Val Loss: 0.0931, Val Accuracy: 97.27%\n",
            "Epoch 12/30 | Train Loss: 0.1338, Train Accuracy: 97.25% | Val Loss: 0.1219, Val Accuracy: 96.17%\n",
            "Epoch 13/30 | Train Loss: 0.1512, Train Accuracy: 96.18% | Val Loss: 0.0878, Val Accuracy: 98.91%\n",
            "Epoch 14/30 | Train Loss: 0.1474, Train Accuracy: 97.56% | Val Loss: 0.0571, Val Accuracy: 98.91%\n",
            "Epoch 15/30 | Train Loss: 0.1082, Train Accuracy: 97.40% | Val Loss: 0.0614, Val Accuracy: 98.36%\n",
            "Epoch 16/30 | Train Loss: 0.0722, Train Accuracy: 98.63% | Val Loss: 0.0348, Val Accuracy: 98.91%\n",
            "Epoch 17/30 | Train Loss: 0.0810, Train Accuracy: 98.02% | Val Loss: 0.0780, Val Accuracy: 97.81%\n",
            "Epoch 18/30 | Train Loss: 0.0776, Train Accuracy: 98.17% | Val Loss: 0.0479, Val Accuracy: 98.36%\n",
            "Epoch 19/30 | Train Loss: 0.0792, Train Accuracy: 98.47% | Val Loss: 0.0346, Val Accuracy: 98.91%\n",
            "Epoch 20/30 | Train Loss: 0.0565, Train Accuracy: 99.08% | Val Loss: 0.0335, Val Accuracy: 98.36%\n",
            "Epoch 21/30 | Train Loss: 0.0561, Train Accuracy: 98.63% | Val Loss: 0.0354, Val Accuracy: 98.36%\n",
            "Epoch 22/30 | Train Loss: 0.0737, Train Accuracy: 98.02% | Val Loss: 0.1136, Val Accuracy: 95.63%\n",
            "Epoch 23/30 | Train Loss: 0.0715, Train Accuracy: 98.63% | Val Loss: 0.0201, Val Accuracy: 99.45%\n",
            "Epoch 24/30 | Train Loss: 0.0649, Train Accuracy: 98.63% | Val Loss: 0.0194, Val Accuracy: 100.00%\n",
            "Epoch 25/30 | Train Loss: 0.0706, Train Accuracy: 98.63% | Val Loss: 0.0248, Val Accuracy: 100.00%\n",
            "Epoch 26/30 | Train Loss: 0.0505, Train Accuracy: 98.78% | Val Loss: 0.0157, Val Accuracy: 100.00%\n",
            "Epoch 27/30 | Train Loss: 0.0415, Train Accuracy: 99.54% | Val Loss: 0.0139, Val Accuracy: 100.00%\n",
            "Epoch 28/30 | Train Loss: 0.0423, Train Accuracy: 98.78% | Val Loss: 0.0159, Val Accuracy: 99.45%\n",
            "Epoch 29/30 | Train Loss: 0.0579, Train Accuracy: 98.32% | Val Loss: 0.0217, Val Accuracy: 98.91%\n",
            "Epoch 30/30 | Train Loss: 0.0425, Train Accuracy: 98.93% | Val Loss: 0.0120, Val Accuracy: 100.00%\n",
            "Training finished.\n"
          ]
        }
      ],
      "source": [
        "print(\"Starting training...\")\n",
        "train_model(model, train_loader, valid_loader, criterion, optimizer, epochs=30)\n",
        "print(\"Training finished.\")\n"
      ]
    },
    {
      "cell_type": "code",
      "execution_count": 17,
      "metadata": {
        "colab": {
          "base_uri": "https://localhost:8080/"
        },
        "id": "YnbSWmDV7D5n",
        "outputId": "841f611c-d4c4-449a-8912-e90c4a73b58a"
      },
      "outputs": [
        {
          "name": "stdout",
          "output_type": "stream",
          "text": [
            "finished\n"
          ]
        }
      ],
      "source": [
        "print(\"finished\")"
      ]
    },
    {
      "cell_type": "code",
      "execution_count": 18,
      "metadata": {
        "colab": {
          "base_uri": "https://localhost:8080/"
        },
        "id": "QrsrQ67-Cueq",
        "outputId": "8622402b-a196-457d-e46a-d814d0f1991d"
      },
      "outputs": [
        {
          "name": "stdout",
          "output_type": "stream",
          "text": [
            "Model saved to 17classes_resnet_model.pth\n"
          ]
        }
      ],
      "source": [
        "# Save the trained model\n",
        "model_save_path = \"17classes_resnet_model.pth\"\n",
        "torch.save(model.state_dict(), model_save_path)\n",
        "print(f\"Model saved to {model_save_path}\")"
      ]
    },
    {
      "cell_type": "code",
      "execution_count": null,
      "metadata": {
        "id": "1aRID_QaDK19"
      },
      "outputs": [],
      "source": [
        "# Starting training...\n",
        "# Training on device: cpu\n",
        "# Epoch 1/30 | Train Loss: 2.7106, Train Accuracy: 16.49% | Val Loss: 2.5673, Val Accuracy: 19.67%\n",
        "# Epoch 2/30 | Train Loss: 2.1574, Train Accuracy: 40.00% | Val Loss: 1.9800, Val Accuracy: 39.89%\n",
        "# Epoch 3/30 | Train Loss: 1.6263, Train Accuracy: 58.47% | Val Loss: 1.3780, Val Accuracy: 60.11%\n",
        "# Epoch 4/30 | Train Loss: 1.1346, Train Accuracy: 69.77% | Val Loss: 0.9174, Val Accuracy: 77.05%\n",
        "# Epoch 5/30 | Train Loss: 0.8818, Train Accuracy: 77.71% | Val Loss: 0.6638, Val Accuracy: 83.06%\n",
        "# Epoch 6/30 | Train Loss: 0.6547, Train Accuracy: 84.58% | Val Loss: 0.5107, Val Accuracy: 84.70%\n",
        "# Epoch 7/30 | Train Loss: 0.4599, Train Accuracy: 87.79% | Val Loss: 0.2598, Val Accuracy: 95.63%\n",
        "# Epoch 8/30 | Train Loss: 0.3559, Train Accuracy: 92.06% | Val Loss: 0.2376, Val Accuracy: 94.54%\n",
        "# Epoch 9/30 | Train Loss: 0.2971, Train Accuracy: 92.98% | Val Loss: 0.1788, Val Accuracy: 96.72%\n",
        "# Epoch 10/30 | Train Loss: 0.2345, Train Accuracy: 96.03% | Val Loss: 0.1448, Val Accuracy: 96.72%\n",
        "# Epoch 11/30 | Train Loss: 0.2010, Train Accuracy: 96.18% | Val Loss: 0.0931, Val Accuracy: 97.27%\n",
        "# Epoch 12/30 | Train Loss: 0.1338, Train Accuracy: 97.25% | Val Loss: 0.1219, Val Accuracy: 96.17%\n",
        "# Epoch 13/30 | Train Loss: 0.1512, Train Accuracy: 96.18% | Val Loss: 0.0878, Val Accuracy: 98.91%\n",
        "# Epoch 14/30 | Train Loss: 0.1474, Train Accuracy: 97.56% | Val Loss: 0.0571, Val Accuracy: 98.91%\n",
        "# Epoch 15/30 | Train Loss: 0.1082, Train Accuracy: 97.40% | Val Loss: 0.0614, Val Accuracy: 98.36%\n",
        "# Epoch 16/30 | Train Loss: 0.0722, Train Accuracy: 98.63% | Val Loss: 0.0348, Val Accuracy: 98.91%\n",
        "# Epoch 17/30 | Train Loss: 0.0810, Train Accuracy: 98.02% | Val Loss: 0.0780, Val Accuracy: 97.81%\n",
        "# Epoch 18/30 | Train Loss: 0.0776, Train Accuracy: 98.17% | Val Loss: 0.0479, Val Accuracy: 98.36%\n",
        "# Epoch 19/30 | Train Loss: 0.0792, Train Accuracy: 98.47% | Val Loss: 0.0346, Val Accuracy: 98.91%\n",
        "# Epoch 20/30 | Train Loss: 0.0565, Train Accuracy: 99.08% | Val Loss: 0.0335, Val Accuracy: 98.36%\n",
        "# Epoch 21/30 | Train Loss: 0.0561, Train Accuracy: 98.63% | Val Loss: 0.0354, Val Accuracy: 98.36%\n",
        "# Epoch 22/30 | Train Loss: 0.0737, Train Accuracy: 98.02% | Val Loss: 0.1136, Val Accuracy: 95.63%\n",
        "# Epoch 23/30 | Train Loss: 0.0715, Train Accuracy: 98.63% | Val Loss: 0.0201, Val Accuracy: 99.45%\n",
        "# ...\n",
        "# Epoch 28/30 | Train Loss: 0.0423, Train Accuracy: 98.78% | Val Loss: 0.0159, Val Accuracy: 99.45%\n",
        "# Epoch 29/30 | Train Loss: 0.0579, Train Accuracy: 98.32% | Val Loss: 0.0217, Val Accuracy: 98.91%\n",
        "# Epoch 30/30 | Train Loss: 0.0425, Train Accuracy: 98.93% | Val Loss: 0.0120, Val Accuracy: 99.12%\n",
        "# Training finished."
      ]
    }
  ],
  "metadata": {
    "accelerator": "GPU",
    "colab": {
      "gpuType": "T4",
      "provenance": []
    },
    "kernelspec": {
      "display_name": "Python 3",
      "name": "python3"
    },
    "language_info": {
      "codemirror_mode": {
        "name": "ipython",
        "version": 3
      },
      "file_extension": ".py",
      "mimetype": "text/x-python",
      "name": "python",
      "nbconvert_exporter": "python",
      "pygments_lexer": "ipython3",
      "version": "3.13.3"
    },
    "widgets": {
      "application/vnd.jupyter.widget-state+json": {
        "02ca95b2943549138e5e8500afd23bdc": {
          "model_module": "@jupyter-widgets/controls",
          "model_module_version": "1.5.0",
          "model_name": "HTMLModel",
          "state": {
            "_dom_classes": [],
            "_model_module": "@jupyter-widgets/controls",
            "_model_module_version": "1.5.0",
            "_model_name": "HTMLModel",
            "_view_count": null,
            "_view_module": "@jupyter-widgets/controls",
            "_view_module_version": "1.5.0",
            "_view_name": "HTMLView",
            "description": "",
            "description_tooltip": null,
            "layout": "IPY_MODEL_1d131335ffed4c419e2f0e36cd2794f0",
            "placeholder": "​",
            "style": "IPY_MODEL_fe2922a820824e0990601c84794c9d87",
            "value": " 46.9M/46.9M [00:01&lt;00:00, 46.9MB/s]"
          }
        },
        "0b6e4c6d0be24c0c9d3ed1057fa4c717": {
          "model_module": "@jupyter-widgets/controls",
          "model_module_version": "1.5.0",
          "model_name": "HBoxModel",
          "state": {
            "_dom_classes": [],
            "_model_module": "@jupyter-widgets/controls",
            "_model_module_version": "1.5.0",
            "_model_name": "HBoxModel",
            "_view_count": null,
            "_view_module": "@jupyter-widgets/controls",
            "_view_module_version": "1.5.0",
            "_view_name": "HBoxView",
            "box_style": "",
            "children": [
              "IPY_MODEL_266522f464104052b9a2c537c5c6382b",
              "IPY_MODEL_0dd15a23d1fc4a95b5eb2325b5aaa328",
              "IPY_MODEL_02ca95b2943549138e5e8500afd23bdc"
            ],
            "layout": "IPY_MODEL_6e60bbb7b7c4437cb91a4aac76fbb65d"
          }
        },
        "0dd15a23d1fc4a95b5eb2325b5aaa328": {
          "model_module": "@jupyter-widgets/controls",
          "model_module_version": "1.5.0",
          "model_name": "FloatProgressModel",
          "state": {
            "_dom_classes": [],
            "_model_module": "@jupyter-widgets/controls",
            "_model_module_version": "1.5.0",
            "_model_name": "FloatProgressModel",
            "_view_count": null,
            "_view_module": "@jupyter-widgets/controls",
            "_view_module_version": "1.5.0",
            "_view_name": "ProgressView",
            "bar_style": "success",
            "description": "",
            "description_tooltip": null,
            "layout": "IPY_MODEL_5b12dde4403c428aa5f77eadf7dff3e2",
            "max": 46885842,
            "min": 0,
            "orientation": "horizontal",
            "style": "IPY_MODEL_cc01bd6cf55442d3884cba283392a413",
            "value": 46885842
          }
        },
        "1d131335ffed4c419e2f0e36cd2794f0": {
          "model_module": "@jupyter-widgets/base",
          "model_module_version": "1.2.0",
          "model_name": "LayoutModel",
          "state": {
            "_model_module": "@jupyter-widgets/base",
            "_model_module_version": "1.2.0",
            "_model_name": "LayoutModel",
            "_view_count": null,
            "_view_module": "@jupyter-widgets/base",
            "_view_module_version": "1.2.0",
            "_view_name": "LayoutView",
            "align_content": null,
            "align_items": null,
            "align_self": null,
            "border": null,
            "bottom": null,
            "display": null,
            "flex": null,
            "flex_flow": null,
            "grid_area": null,
            "grid_auto_columns": null,
            "grid_auto_flow": null,
            "grid_auto_rows": null,
            "grid_column": null,
            "grid_gap": null,
            "grid_row": null,
            "grid_template_areas": null,
            "grid_template_columns": null,
            "grid_template_rows": null,
            "height": null,
            "justify_content": null,
            "justify_items": null,
            "left": null,
            "margin": null,
            "max_height": null,
            "max_width": null,
            "min_height": null,
            "min_width": null,
            "object_fit": null,
            "object_position": null,
            "order": null,
            "overflow": null,
            "overflow_x": null,
            "overflow_y": null,
            "padding": null,
            "right": null,
            "top": null,
            "visibility": null,
            "width": null
          }
        },
        "266522f464104052b9a2c537c5c6382b": {
          "model_module": "@jupyter-widgets/controls",
          "model_module_version": "1.5.0",
          "model_name": "HTMLModel",
          "state": {
            "_dom_classes": [],
            "_model_module": "@jupyter-widgets/controls",
            "_model_module_version": "1.5.0",
            "_model_name": "HTMLModel",
            "_view_count": null,
            "_view_module": "@jupyter-widgets/controls",
            "_view_module_version": "1.5.0",
            "_view_name": "HTMLView",
            "description": "",
            "description_tooltip": null,
            "layout": "IPY_MODEL_2ca4a2697bf549bfa61b5ed0eda12c78",
            "placeholder": "​",
            "style": "IPY_MODEL_3aa129fdb4764737a4b25af386f03d89",
            "value": "model.safetensors: 100%"
          }
        },
        "2ca4a2697bf549bfa61b5ed0eda12c78": {
          "model_module": "@jupyter-widgets/base",
          "model_module_version": "1.2.0",
          "model_name": "LayoutModel",
          "state": {
            "_model_module": "@jupyter-widgets/base",
            "_model_module_version": "1.2.0",
            "_model_name": "LayoutModel",
            "_view_count": null,
            "_view_module": "@jupyter-widgets/base",
            "_view_module_version": "1.2.0",
            "_view_name": "LayoutView",
            "align_content": null,
            "align_items": null,
            "align_self": null,
            "border": null,
            "bottom": null,
            "display": null,
            "flex": null,
            "flex_flow": null,
            "grid_area": null,
            "grid_auto_columns": null,
            "grid_auto_flow": null,
            "grid_auto_rows": null,
            "grid_column": null,
            "grid_gap": null,
            "grid_row": null,
            "grid_template_areas": null,
            "grid_template_columns": null,
            "grid_template_rows": null,
            "height": null,
            "justify_content": null,
            "justify_items": null,
            "left": null,
            "margin": null,
            "max_height": null,
            "max_width": null,
            "min_height": null,
            "min_width": null,
            "object_fit": null,
            "object_position": null,
            "order": null,
            "overflow": null,
            "overflow_x": null,
            "overflow_y": null,
            "padding": null,
            "right": null,
            "top": null,
            "visibility": null,
            "width": null
          }
        },
        "3aa129fdb4764737a4b25af386f03d89": {
          "model_module": "@jupyter-widgets/controls",
          "model_module_version": "1.5.0",
          "model_name": "DescriptionStyleModel",
          "state": {
            "_model_module": "@jupyter-widgets/controls",
            "_model_module_version": "1.5.0",
            "_model_name": "DescriptionStyleModel",
            "_view_count": null,
            "_view_module": "@jupyter-widgets/base",
            "_view_module_version": "1.2.0",
            "_view_name": "StyleView",
            "description_width": ""
          }
        },
        "5b12dde4403c428aa5f77eadf7dff3e2": {
          "model_module": "@jupyter-widgets/base",
          "model_module_version": "1.2.0",
          "model_name": "LayoutModel",
          "state": {
            "_model_module": "@jupyter-widgets/base",
            "_model_module_version": "1.2.0",
            "_model_name": "LayoutModel",
            "_view_count": null,
            "_view_module": "@jupyter-widgets/base",
            "_view_module_version": "1.2.0",
            "_view_name": "LayoutView",
            "align_content": null,
            "align_items": null,
            "align_self": null,
            "border": null,
            "bottom": null,
            "display": null,
            "flex": null,
            "flex_flow": null,
            "grid_area": null,
            "grid_auto_columns": null,
            "grid_auto_flow": null,
            "grid_auto_rows": null,
            "grid_column": null,
            "grid_gap": null,
            "grid_row": null,
            "grid_template_areas": null,
            "grid_template_columns": null,
            "grid_template_rows": null,
            "height": null,
            "justify_content": null,
            "justify_items": null,
            "left": null,
            "margin": null,
            "max_height": null,
            "max_width": null,
            "min_height": null,
            "min_width": null,
            "object_fit": null,
            "object_position": null,
            "order": null,
            "overflow": null,
            "overflow_x": null,
            "overflow_y": null,
            "padding": null,
            "right": null,
            "top": null,
            "visibility": null,
            "width": null
          }
        },
        "6e60bbb7b7c4437cb91a4aac76fbb65d": {
          "model_module": "@jupyter-widgets/base",
          "model_module_version": "1.2.0",
          "model_name": "LayoutModel",
          "state": {
            "_model_module": "@jupyter-widgets/base",
            "_model_module_version": "1.2.0",
            "_model_name": "LayoutModel",
            "_view_count": null,
            "_view_module": "@jupyter-widgets/base",
            "_view_module_version": "1.2.0",
            "_view_name": "LayoutView",
            "align_content": null,
            "align_items": null,
            "align_self": null,
            "border": null,
            "bottom": null,
            "display": null,
            "flex": null,
            "flex_flow": null,
            "grid_area": null,
            "grid_auto_columns": null,
            "grid_auto_flow": null,
            "grid_auto_rows": null,
            "grid_column": null,
            "grid_gap": null,
            "grid_row": null,
            "grid_template_areas": null,
            "grid_template_columns": null,
            "grid_template_rows": null,
            "height": null,
            "justify_content": null,
            "justify_items": null,
            "left": null,
            "margin": null,
            "max_height": null,
            "max_width": null,
            "min_height": null,
            "min_width": null,
            "object_fit": null,
            "object_position": null,
            "order": null,
            "overflow": null,
            "overflow_x": null,
            "overflow_y": null,
            "padding": null,
            "right": null,
            "top": null,
            "visibility": null,
            "width": null
          }
        },
        "cc01bd6cf55442d3884cba283392a413": {
          "model_module": "@jupyter-widgets/controls",
          "model_module_version": "1.5.0",
          "model_name": "ProgressStyleModel",
          "state": {
            "_model_module": "@jupyter-widgets/controls",
            "_model_module_version": "1.5.0",
            "_model_name": "ProgressStyleModel",
            "_view_count": null,
            "_view_module": "@jupyter-widgets/base",
            "_view_module_version": "1.2.0",
            "_view_name": "StyleView",
            "bar_color": null,
            "description_width": ""
          }
        },
        "fe2922a820824e0990601c84794c9d87": {
          "model_module": "@jupyter-widgets/controls",
          "model_module_version": "1.5.0",
          "model_name": "DescriptionStyleModel",
          "state": {
            "_model_module": "@jupyter-widgets/controls",
            "_model_module_version": "1.5.0",
            "_model_name": "DescriptionStyleModel",
            "_view_count": null,
            "_view_module": "@jupyter-widgets/base",
            "_view_module_version": "1.2.0",
            "_view_name": "StyleView",
            "description_width": ""
          }
        }
      }
    }
  },
  "nbformat": 4,
  "nbformat_minor": 0
}
